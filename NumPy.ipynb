{
  "metadata": {
    "kernelspec": {
      "name": "python",
      "display_name": "Python (Pyodide)",
      "language": "python"
    },
    "language_info": {
      "codemirror_mode": {
        "name": "python",
        "version": 3
      },
      "file_extension": ".py",
      "mimetype": "text/x-python",
      "name": "python",
      "nbconvert_exporter": "python",
      "pygments_lexer": "ipython3",
      "version": "3.8"
    }
  },
  "nbformat_minor": 4,
  "nbformat": 4,
  "cells": [
    {
      "cell_type": "markdown",
      "source": "# NumPy\n## (Documentation)\n### https://www.w3schools.com/python/numpy/default.asp",
      "metadata": {}
    },
    {
      "cell_type": "markdown",
      "source": "### Importing NumPy and checking version",
      "metadata": {}
    },
    {
      "cell_type": "code",
      "source": "import numpy as np",
      "metadata": {
        "trusted": true
      },
      "outputs": [],
      "execution_count": 9
    },
    {
      "cell_type": "code",
      "source": "print(np.__version__)",
      "metadata": {
        "trusted": true
      },
      "outputs": [
        {
          "name": "stdout",
          "text": "1.26.4\n",
          "output_type": "stream"
        }
      ],
      "execution_count": 10
    },
    {
      "cell_type": "markdown",
      "source": "### Creating Array and Checking Dimension, Type",
      "metadata": {}
    },
    {
      "cell_type": "code",
      "source": "arr0 = np.array(42)\n#0D Array (above one)\narr1 = np.array([1,2,3,4,5,6,7,8,9,10,11,12,13,14,15]) \n#1D Array (above one)\narr2 = np.array([[12,34,56], [78,90,123]]) #no of elements in each list should be same\n#2D Array (above one)\n\nprint(type(arr0), type(arr1), type(arr2))\nprint(arr0, arr0.ndim)\nprint(arr1, arr1.ndim)\nprint(arr2, arr2.ndim)\n#arr.ndim => dimension of that array",
      "metadata": {
        "trusted": true
      },
      "outputs": [
        {
          "name": "stdout",
          "text": "<class 'numpy.ndarray'> <class 'numpy.ndarray'> <class 'numpy.ndarray'>\n42 0\n[ 1  2  3  4  5  6  7  8  9 10 11 12 13 14 15] 1\n[[ 12  34  56]\n [ 78  90 123]] 2\n",
          "output_type": "stream"
        }
      ],
      "execution_count": 11
    },
    {
      "cell_type": "markdown",
      "source": "### Array Indexing, Slicing",
      "metadata": {}
    },
    {
      "cell_type": "code",
      "source": "print(arr1[2])\nprint(arr2[0, 1])\nprint(arr2[0, 0] + arr2[1, 0]) #12+78\n#Negative Indexing i.e., we can use -ve values for indexing by counting from back side.\nprint(arr2[-1, 2])\n\n#Slicing\nprint()\nprint(arr1)\nprint(\"Slicing from now on:\")\nprint(arr1[2:5])\nprint(arr1[:6])\nprint(arr1[5:])\n\n#Return every other element from index 1 to index 5:\nprint(arr1[0::2]) #slicing 1D array\nprint(arr2[0,0:3:2])",
      "metadata": {
        "trusted": true
      },
      "outputs": [
        {
          "name": "stdout",
          "text": "3\n34\n90\n123\n\n[ 1  2  3  4  5  6  7  8  9 10 11 12 13 14 15]\nSlicing from now on:\n[3 4 5]\n[1 2 3 4 5 6]\n[ 6  7  8  9 10 11 12 13 14 15]\n[ 1  3  5  7  9 11 13 15]\n[12 56]\n",
          "output_type": "stream"
        }
      ],
      "execution_count": 12
    },
    {
      "cell_type": "code",
      "source": "print(arr1.dtype) #datatype of an array\nprint(arr2.dtype)",
      "metadata": {
        "trusted": true
      },
      "outputs": [
        {
          "name": "stdout",
          "text": "int32\nint32\n",
          "output_type": "stream"
        }
      ],
      "execution_count": 13
    },
    {
      "cell_type": "markdown",
      "source": "# Numpy Random",
      "metadata": {}
    },
    {
      "cell_type": "code",
      "source": "from numpy import random",
      "metadata": {
        "trusted": true
      },
      "outputs": [],
      "execution_count": 15
    },
    {
      "cell_type": "markdown",
      "source": "### What is a Random Number?\n\nRandom number does NOT mean a different number every time.\nRandom means something that can not be predicted logically.\n\nComputers work on programs, and programs are definitive set of instructions. So it means there must be some algorithm to generate a random number as well.\n\nIf there is a program to generate random number it can be predicted, thus it is not truly random.\n\nRandom numbers generated through a generation algorithm are called   \n##### Pseudo Random\n\n-------------------------------------------------------------------",
      "metadata": {}
    },
    {
      "cell_type": "markdown",
      "source": "### Generate a random integer from 0 to 100:",
      "metadata": {}
    },
    {
      "cell_type": "code",
      "source": "x = random.randint(100)\nprint(x)",
      "metadata": {
        "trusted": true
      },
      "outputs": [
        {
          "name": "stdout",
          "text": "18\n",
          "output_type": "stream"
        }
      ],
      "execution_count": 28
    },
    {
      "cell_type": "markdown",
      "source": "### Generate Random Float\nGenerates random float from 0 to 1",
      "metadata": {}
    },
    {
      "cell_type": "code",
      "source": "x = random.rand()\nprint(x)",
      "metadata": {
        "trusted": true
      },
      "outputs": [
        {
          "name": "stdout",
          "text": "0.9837791337649294\n",
          "output_type": "stream"
        }
      ],
      "execution_count": 33
    },
    {
      "cell_type": "code",
      "source": "",
      "metadata": {
        "trusted": true
      },
      "outputs": [],
      "execution_count": null
    }
  ]
}