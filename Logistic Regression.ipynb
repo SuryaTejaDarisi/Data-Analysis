{
 "cells": [
  {
   "cell_type": "code",
   "execution_count": 5,
   "id": "59f0543b-7e3b-429e-87b4-dadc8a99af84",
   "metadata": {},
   "outputs": [],
   "source": [
    "import pandas as pd\n",
    "import numpy as np\n",
    "import matplotlib.pyplot as plt\n",
    "import seaborn as sns\n",
    "from sklearn.metrics import confusion_matrix, accuracy_score, precision_score, recall_score, f1_score\n",
    "from sklearn.linear_model import LogisticRegression\n",
    "from sklearn.svm import SVC"
   ]
  },
  {
   "cell_type": "code",
   "execution_count": 6,
   "id": "d6d80c4e-c9ac-46dc-ba06-4d99c92654ff",
   "metadata": {},
   "outputs": [
    {
     "data": {
      "text/html": [
       "<div>\n",
       "<style scoped>\n",
       "    .dataframe tbody tr th:only-of-type {\n",
       "        vertical-align: middle;\n",
       "    }\n",
       "\n",
       "    .dataframe tbody tr th {\n",
       "        vertical-align: top;\n",
       "    }\n",
       "\n",
       "    .dataframe thead th {\n",
       "        text-align: right;\n",
       "    }\n",
       "</style>\n",
       "<table border=\"1\" class=\"dataframe\">\n",
       "  <thead>\n",
       "    <tr style=\"text-align: right;\">\n",
       "      <th></th>\n",
       "      <th>diagnosis</th>\n",
       "      <th>radius_mean</th>\n",
       "      <th>texture_mean</th>\n",
       "      <th>perimeter_mean</th>\n",
       "      <th>area_mean</th>\n",
       "      <th>smoothness_mean</th>\n",
       "      <th>compactness_mean</th>\n",
       "      <th>concavity_mean</th>\n",
       "      <th>concave_points_mean</th>\n",
       "      <th>symmetry_mean</th>\n",
       "      <th>...</th>\n",
       "      <th>radius_worst</th>\n",
       "      <th>texture_worst</th>\n",
       "      <th>perimeter_worst</th>\n",
       "      <th>area_worst</th>\n",
       "      <th>smoothness_worst</th>\n",
       "      <th>compactness_worst</th>\n",
       "      <th>concavity_worst</th>\n",
       "      <th>concave_points_worst</th>\n",
       "      <th>symmetry_worst</th>\n",
       "      <th>fractal_dimension_worst</th>\n",
       "    </tr>\n",
       "  </thead>\n",
       "  <tbody>\n",
       "    <tr>\n",
       "      <th>0</th>\n",
       "      <td>0</td>\n",
       "      <td>11.360</td>\n",
       "      <td>17.57</td>\n",
       "      <td>72.49</td>\n",
       "      <td>399.8</td>\n",
       "      <td>0.08858</td>\n",
       "      <td>0.05313</td>\n",
       "      <td>0.02783</td>\n",
       "      <td>0.021000</td>\n",
       "      <td>0.1601</td>\n",
       "      <td>...</td>\n",
       "      <td>13.05</td>\n",
       "      <td>36.32</td>\n",
       "      <td>85.07</td>\n",
       "      <td>521.3</td>\n",
       "      <td>0.1453</td>\n",
       "      <td>0.16220</td>\n",
       "      <td>0.1811</td>\n",
       "      <td>0.08698</td>\n",
       "      <td>0.2973</td>\n",
       "      <td>0.07745</td>\n",
       "    </tr>\n",
       "    <tr>\n",
       "      <th>1</th>\n",
       "      <td>1</td>\n",
       "      <td>21.610</td>\n",
       "      <td>22.28</td>\n",
       "      <td>144.40</td>\n",
       "      <td>1407.0</td>\n",
       "      <td>0.11670</td>\n",
       "      <td>0.20870</td>\n",
       "      <td>0.28100</td>\n",
       "      <td>0.156200</td>\n",
       "      <td>0.2162</td>\n",
       "      <td>...</td>\n",
       "      <td>26.23</td>\n",
       "      <td>28.74</td>\n",
       "      <td>172.00</td>\n",
       "      <td>2081.0</td>\n",
       "      <td>0.1502</td>\n",
       "      <td>0.57170</td>\n",
       "      <td>0.7053</td>\n",
       "      <td>0.24220</td>\n",
       "      <td>0.3828</td>\n",
       "      <td>0.10070</td>\n",
       "    </tr>\n",
       "    <tr>\n",
       "      <th>2</th>\n",
       "      <td>0</td>\n",
       "      <td>13.150</td>\n",
       "      <td>15.34</td>\n",
       "      <td>85.31</td>\n",
       "      <td>538.9</td>\n",
       "      <td>0.09384</td>\n",
       "      <td>0.08498</td>\n",
       "      <td>0.09293</td>\n",
       "      <td>0.034830</td>\n",
       "      <td>0.1822</td>\n",
       "      <td>...</td>\n",
       "      <td>14.77</td>\n",
       "      <td>20.50</td>\n",
       "      <td>97.67</td>\n",
       "      <td>677.3</td>\n",
       "      <td>0.1478</td>\n",
       "      <td>0.22560</td>\n",
       "      <td>0.3009</td>\n",
       "      <td>0.09722</td>\n",
       "      <td>0.3849</td>\n",
       "      <td>0.08633</td>\n",
       "    </tr>\n",
       "    <tr>\n",
       "      <th>3</th>\n",
       "      <td>0</td>\n",
       "      <td>9.683</td>\n",
       "      <td>19.34</td>\n",
       "      <td>61.05</td>\n",
       "      <td>285.7</td>\n",
       "      <td>0.08491</td>\n",
       "      <td>0.05030</td>\n",
       "      <td>0.02337</td>\n",
       "      <td>0.009615</td>\n",
       "      <td>0.1580</td>\n",
       "      <td>...</td>\n",
       "      <td>10.93</td>\n",
       "      <td>25.59</td>\n",
       "      <td>69.10</td>\n",
       "      <td>364.2</td>\n",
       "      <td>0.1199</td>\n",
       "      <td>0.09546</td>\n",
       "      <td>0.0935</td>\n",
       "      <td>0.03846</td>\n",
       "      <td>0.2552</td>\n",
       "      <td>0.07920</td>\n",
       "    </tr>\n",
       "    <tr>\n",
       "      <th>4</th>\n",
       "      <td>1</td>\n",
       "      <td>21.560</td>\n",
       "      <td>22.39</td>\n",
       "      <td>142.00</td>\n",
       "      <td>1479.0</td>\n",
       "      <td>0.11100</td>\n",
       "      <td>0.11590</td>\n",
       "      <td>0.24390</td>\n",
       "      <td>0.138900</td>\n",
       "      <td>0.1726</td>\n",
       "      <td>...</td>\n",
       "      <td>25.45</td>\n",
       "      <td>26.40</td>\n",
       "      <td>166.10</td>\n",
       "      <td>2027.0</td>\n",
       "      <td>0.1410</td>\n",
       "      <td>0.21130</td>\n",
       "      <td>0.4107</td>\n",
       "      <td>0.22160</td>\n",
       "      <td>0.2060</td>\n",
       "      <td>0.07115</td>\n",
       "    </tr>\n",
       "  </tbody>\n",
       "</table>\n",
       "<p>5 rows × 31 columns</p>\n",
       "</div>"
      ],
      "text/plain": [
       "   diagnosis  radius_mean  texture_mean  perimeter_mean  area_mean  \\\n",
       "0          0       11.360         17.57           72.49      399.8   \n",
       "1          1       21.610         22.28          144.40     1407.0   \n",
       "2          0       13.150         15.34           85.31      538.9   \n",
       "3          0        9.683         19.34           61.05      285.7   \n",
       "4          1       21.560         22.39          142.00     1479.0   \n",
       "\n",
       "   smoothness_mean  compactness_mean  concavity_mean  concave_points_mean  \\\n",
       "0          0.08858           0.05313         0.02783             0.021000   \n",
       "1          0.11670           0.20870         0.28100             0.156200   \n",
       "2          0.09384           0.08498         0.09293             0.034830   \n",
       "3          0.08491           0.05030         0.02337             0.009615   \n",
       "4          0.11100           0.11590         0.24390             0.138900   \n",
       "\n",
       "   symmetry_mean  ...  radius_worst  texture_worst  perimeter_worst  \\\n",
       "0         0.1601  ...         13.05          36.32            85.07   \n",
       "1         0.2162  ...         26.23          28.74           172.00   \n",
       "2         0.1822  ...         14.77          20.50            97.67   \n",
       "3         0.1580  ...         10.93          25.59            69.10   \n",
       "4         0.1726  ...         25.45          26.40           166.10   \n",
       "\n",
       "   area_worst  smoothness_worst  compactness_worst  concavity_worst  \\\n",
       "0       521.3            0.1453            0.16220           0.1811   \n",
       "1      2081.0            0.1502            0.57170           0.7053   \n",
       "2       677.3            0.1478            0.22560           0.3009   \n",
       "3       364.2            0.1199            0.09546           0.0935   \n",
       "4      2027.0            0.1410            0.21130           0.4107   \n",
       "\n",
       "   concave_points_worst  symmetry_worst  fractal_dimension_worst  \n",
       "0               0.08698          0.2973                  0.07745  \n",
       "1               0.24220          0.3828                  0.10070  \n",
       "2               0.09722          0.3849                  0.08633  \n",
       "3               0.03846          0.2552                  0.07920  \n",
       "4               0.22160          0.2060                  0.07115  \n",
       "\n",
       "[5 rows x 31 columns]"
      ]
     },
     "execution_count": 6,
     "metadata": {},
     "output_type": "execute_result"
    }
   ],
   "source": [
    "train_df = pd.read_csv('../WDBC_Train.csv')\n",
    "valid_df = pd.read_csv('../WDBC_Validation.csv')\n",
    "test_df = pd.read_csv('../WDBC_Test.csv')\n",
    "\n",
    "train_df.head()"
   ]
  },
  {
   "cell_type": "code",
   "execution_count": 7,
   "id": "0891f097-962d-49a5-971b-fef3e5a189fe",
   "metadata": {},
   "outputs": [
    {
     "name": "stdout",
     "output_type": "stream",
     "text": [
      "Train shape:  (341, 30)\n",
      "Validation shape:  (114, 30)\n",
      "Test shape:  (114, 30)\n"
     ]
    }
   ],
   "source": [
    "X_train, y_train = train_df.iloc[:, 1:], train_df.iloc[:, 0]\n",
    "X_valid, y_valid = valid_df.iloc[:, 1:], valid_df.iloc[:, 0]\n",
    "X_test, y_test = test_df.iloc[:, 1:], test_df.iloc[:, 0]\n",
    "\n",
    "print('Train shape: ', X_train.shape)\n",
    "print('Validation shape: ', X_valid.shape)\n",
    "print('Test shape: ', X_test.shape)"
   ]
  },
  {
   "cell_type": "markdown",
   "id": "08a9303d-2340-42a9-8fb3-bc2d654bb7b9",
   "metadata": {},
   "source": [
    "### Logistic Regression"
   ]
  },
  {
   "cell_type": "code",
   "execution_count": 8,
   "id": "65ba3764-2429-47dc-9d22-8dd401f6b99a",
   "metadata": {},
   "outputs": [
    {
     "name": "stdout",
     "output_type": "stream",
     "text": [
      "Successfully Executed!!!\n"
     ]
    },
    {
     "name": "stderr",
     "output_type": "stream",
     "text": [
      "C:\\Users\\Teja\\AppData\\Local\\Packages\\PythonSoftwareFoundation.Python.3.11_qbz5n2kfra8p0\\LocalCache\\local-packages\\Python311\\site-packages\\sklearn\\linear_model\\_logistic.py:465: ConvergenceWarning: lbfgs failed to converge (status=1):\n",
      "STOP: TOTAL NO. OF ITERATIONS REACHED LIMIT.\n",
      "\n",
      "Increase the number of iterations (max_iter) or scale the data as shown in:\n",
      "    https://scikit-learn.org/stable/modules/preprocessing.html\n",
      "Please also refer to the documentation for alternative solver options:\n",
      "    https://scikit-learn.org/stable/modules/linear_model.html#logistic-regression\n",
      "  n_iter_i = _check_optimize_result(\n"
     ]
    }
   ],
   "source": [
    "logistic_reg = LogisticRegression()\n",
    "\n",
    "logistic_reg.fit(X_train,y_train)\n",
    "\n",
    "y_valid_pred = logistic_reg.predict(X_valid)\n",
    "y_test_pred = logistic_reg.predict(X_test)\n",
    "\n",
    "print(\"Successfully Executed!!!\")"
   ]
  },
  {
   "cell_type": "code",
   "execution_count": 18,
   "id": "5e60ea28-c3eb-4aea-ae71-a76ddce99e20",
   "metadata": {},
   "outputs": [
    {
     "data": {
      "text/plain": [
       "Text(0, 0.5, 'w-parameter value')"
      ]
     },
     "execution_count": 18,
     "metadata": {},
     "output_type": "execute_result"
    },
    {
     "data": {
      "image/png": "[encoded data removed]",
      "text/plain": [
       "<Figure size 1200x800 with 1 Axes>"
      ]
     },
     "metadata": {},
     "output_type": "display_data"
    }
   ],
   "source": [
    "plt.figure(figsize=(12,8))\n",
    "sns.barplot(logistic_reg.coef_)\n",
    "plt.title(\"Sensitivity Analysis for Logistic Regression\")\n",
    "plt.xlabel(\"Attribute number\")\n",
    "plt.ylabel(\"w-parameter value\")"
   ]
  },
  {
   "cell_type": "markdown",
   "id": "ad68f2a7-ff87-4593-a94b-00d6bcb0625c",
   "metadata": {},
   "source": [
    "### Evaluation Metrics"
   ]
  },
  {
   "cell_type": "code",
   "execution_count": 42,
   "id": "7b1b5df1-3edc-48a4-b486-21256d402303",
   "metadata": {},
   "outputs": [
    {
     "name": "stdout",
     "output_type": "stream",
     "text": [
      "---------Validation-----------\n",
      "Logistic Regression Accuracy on Validation: 0.9561\n",
      "Confusion Matrix:\n",
      "[[70  1]\n",
      " [ 4 39]]\n",
      "Precision: 0.9750, Recall: 0.9070, F1-score: 0.9398\n",
      "\n",
      "---------Test-----------\n",
      "Logistic Regression Accuracy on Test: 0.9474\n",
      "Confusion Matrix:\n",
      "[[69  3]\n",
      " [ 3 39]]\n",
      "Precision: 0.9286, Recall: 0.9286, F1-score: 0.9286\n",
      "\n"
     ]
    }
   ],
   "source": [
    "print(\"---------Validation-----------\")\n",
    "\n",
    "cm = confusion_matrix(y_valid, y_valid_pred)\n",
    "acc = accuracy_score(y_valid, y_valid_pred)\n",
    "precision = precision_score(y_valid, y_valid_pred)\n",
    "recall = recall_score(y_valid, y_valid_pred)\n",
    "f1 = f1_score(y_valid, y_valid_pred)\n",
    "\n",
    "print(f\"Logistic Regression Accuracy on Validation: {acc:.4f}\")\n",
    "print(\"Confusion Matrix:\")\n",
    "print(cm)\n",
    "print(f\"Precision: {precision:.4f}, Recall: {recall:.4f}, F1-score: {f1:.4f}\\n\")\n",
    "\n",
    "\n",
    "print(\"---------Test-----------\")\n",
    "\n",
    "\n",
    "cm1 = confusion_matrix(y_test_pred, y_test)\n",
    "acc1 = accuracy_score(y_test_pred, y_test)\n",
    "precision1 = precision_score(y_test_pred, y_test)\n",
    "recall1 = recall_score(y_test_pred, y_test)\n",
    "f11 = f1_score(y_test_pred, y_test)\n",
    "\n",
    "print(f\"Logistic Regression Accuracy on Test: {acc1:.4f}\")\n",
    "print(\"Confusion Matrix:\")\n",
    "print(cm1)\n",
    "print(f\"Precision: {precision1:.4f}, Recall: {recall1:.4f}, F1-score: {f11:.4f}\\n\")"
   ]
  }
 ],
 "metadata": {
  "kernelspec": {
   "display_name": "Python 3",
   "language": "python",
   "name": "python3"
  },
  "language_info": {
   "codemirror_mode": {
    "name": "ipython",
    "version": 3
   },
   "file_extension": ".py",
   "mimetype": "text/x-python",
   "name": "python",
   "nbconvert_exporter": "python",
   "pygments_lexer": "ipython3",
   "version": "3.11.9"
  }
 },
 "nbformat": 4,
 "nbformat_minor": 5
}
