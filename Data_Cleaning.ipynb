{
 "cells": [
  {
   "cell_type": "code",
   "execution_count": 1,
   "id": "8ebffabf-b00b-4046-bd0d-abe84ee96287",
   "metadata": {},
   "outputs": [],
   "source": [
    "import pandas as pd\n",
    "import numpy as np\n",
    "import matplotlib.pyplot as plt\n",
    "import seaborn as sns"
   ]
  },
  {
   "cell_type": "code",
   "execution_count": 2,
   "id": "3d8dad96-c528-4f0d-acf6-80a5a4d38034",
   "metadata": {},
   "outputs": [
    {
     "data": {
      "text/html": [
       "<div>\n",
       "<style scoped>\n",
       "    .dataframe tbody tr th:only-of-type {\n",
       "        vertical-align: middle;\n",
       "    }\n",
       "\n",
       "    .dataframe tbody tr th {\n",
       "        vertical-align: top;\n",
       "    }\n",
       "\n",
       "    .dataframe thead th {\n",
       "        text-align: right;\n",
       "    }\n",
       "</style>\n",
       "<table border=\"1\" class=\"dataframe\">\n",
       "  <thead>\n",
       "    <tr style=\"text-align: right;\">\n",
       "      <th></th>\n",
       "      <th>pregs</th>\n",
       "      <th>plas</th>\n",
       "      <th>pres</th>\n",
       "      <th>skin</th>\n",
       "      <th>test</th>\n",
       "      <th>BMI</th>\n",
       "      <th>pedi</th>\n",
       "      <th>Age</th>\n",
       "      <th>class</th>\n",
       "    </tr>\n",
       "  </thead>\n",
       "  <tbody>\n",
       "    <tr>\n",
       "      <th>0</th>\n",
       "      <td>6.0</td>\n",
       "      <td>148.0</td>\n",
       "      <td>72.0</td>\n",
       "      <td>35.0</td>\n",
       "      <td>0.0</td>\n",
       "      <td>33.6</td>\n",
       "      <td>0.627</td>\n",
       "      <td>50.0</td>\n",
       "      <td>1.0</td>\n",
       "    </tr>\n",
       "    <tr>\n",
       "      <th>1</th>\n",
       "      <td>1.0</td>\n",
       "      <td>85.0</td>\n",
       "      <td>66.0</td>\n",
       "      <td>29.0</td>\n",
       "      <td>0.0</td>\n",
       "      <td>NaN</td>\n",
       "      <td>0.351</td>\n",
       "      <td>NaN</td>\n",
       "      <td>NaN</td>\n",
       "    </tr>\n",
       "    <tr>\n",
       "      <th>2</th>\n",
       "      <td>8.0</td>\n",
       "      <td>183.0</td>\n",
       "      <td>64.0</td>\n",
       "      <td>0.0</td>\n",
       "      <td>0.0</td>\n",
       "      <td>23.3</td>\n",
       "      <td>0.672</td>\n",
       "      <td>32.0</td>\n",
       "      <td>1.0</td>\n",
       "    </tr>\n",
       "    <tr>\n",
       "      <th>3</th>\n",
       "      <td>1.0</td>\n",
       "      <td>89.0</td>\n",
       "      <td>66.0</td>\n",
       "      <td>23.0</td>\n",
       "      <td>94.0</td>\n",
       "      <td>28.1</td>\n",
       "      <td>0.167</td>\n",
       "      <td>NaN</td>\n",
       "      <td>0.0</td>\n",
       "    </tr>\n",
       "    <tr>\n",
       "      <th>4</th>\n",
       "      <td>0.0</td>\n",
       "      <td>137.0</td>\n",
       "      <td>40.0</td>\n",
       "      <td>35.0</td>\n",
       "      <td>168.0</td>\n",
       "      <td>43.1</td>\n",
       "      <td>2.288</td>\n",
       "      <td>33.0</td>\n",
       "      <td>1.0</td>\n",
       "    </tr>\n",
       "    <tr>\n",
       "      <th>...</th>\n",
       "      <td>...</td>\n",
       "      <td>...</td>\n",
       "      <td>...</td>\n",
       "      <td>...</td>\n",
       "      <td>...</td>\n",
       "      <td>...</td>\n",
       "      <td>...</td>\n",
       "      <td>...</td>\n",
       "      <td>...</td>\n",
       "    </tr>\n",
       "    <tr>\n",
       "      <th>763</th>\n",
       "      <td>10.0</td>\n",
       "      <td>101.0</td>\n",
       "      <td>76.0</td>\n",
       "      <td>48.0</td>\n",
       "      <td>180.0</td>\n",
       "      <td>32.9</td>\n",
       "      <td>0.171</td>\n",
       "      <td>63.0</td>\n",
       "      <td>0.0</td>\n",
       "    </tr>\n",
       "    <tr>\n",
       "      <th>764</th>\n",
       "      <td>2.0</td>\n",
       "      <td>122.0</td>\n",
       "      <td>70.0</td>\n",
       "      <td>27.0</td>\n",
       "      <td>0.0</td>\n",
       "      <td>36.8</td>\n",
       "      <td>0.340</td>\n",
       "      <td>27.0</td>\n",
       "      <td>0.0</td>\n",
       "    </tr>\n",
       "    <tr>\n",
       "      <th>765</th>\n",
       "      <td>5.0</td>\n",
       "      <td>121.0</td>\n",
       "      <td>72.0</td>\n",
       "      <td>23.0</td>\n",
       "      <td>112.0</td>\n",
       "      <td>26.2</td>\n",
       "      <td>0.245</td>\n",
       "      <td>30.0</td>\n",
       "      <td>0.0</td>\n",
       "    </tr>\n",
       "    <tr>\n",
       "      <th>766</th>\n",
       "      <td>NaN</td>\n",
       "      <td>NaN</td>\n",
       "      <td>NaN</td>\n",
       "      <td>NaN</td>\n",
       "      <td>NaN</td>\n",
       "      <td>NaN</td>\n",
       "      <td>NaN</td>\n",
       "      <td>NaN</td>\n",
       "      <td>1.0</td>\n",
       "    </tr>\n",
       "    <tr>\n",
       "      <th>767</th>\n",
       "      <td>1.0</td>\n",
       "      <td>93.0</td>\n",
       "      <td>70.0</td>\n",
       "      <td>31.0</td>\n",
       "      <td>0.0</td>\n",
       "      <td>30.4</td>\n",
       "      <td>0.315</td>\n",
       "      <td>23.0</td>\n",
       "      <td>0.0</td>\n",
       "    </tr>\n",
       "  </tbody>\n",
       "</table>\n",
       "<p>768 rows × 9 columns</p>\n",
       "</div>"
      ],
      "text/plain": [
       "     pregs   plas  pres  skin   test   BMI   pedi   Age  class\n",
       "0      6.0  148.0  72.0  35.0    0.0  33.6  0.627  50.0    1.0\n",
       "1      1.0   85.0  66.0  29.0    0.0   NaN  0.351   NaN    NaN\n",
       "2      8.0  183.0  64.0   0.0    0.0  23.3  0.672  32.0    1.0\n",
       "3      1.0   89.0  66.0  23.0   94.0  28.1  0.167   NaN    0.0\n",
       "4      0.0  137.0  40.0  35.0  168.0  43.1  2.288  33.0    1.0\n",
       "..     ...    ...   ...   ...    ...   ...    ...   ...    ...\n",
       "763   10.0  101.0  76.0  48.0  180.0  32.9  0.171  63.0    0.0\n",
       "764    2.0  122.0  70.0  27.0    0.0  36.8  0.340  27.0    0.0\n",
       "765    5.0  121.0  72.0  23.0  112.0  26.2  0.245  30.0    0.0\n",
       "766    NaN    NaN   NaN   NaN    NaN   NaN    NaN   NaN    1.0\n",
       "767    1.0   93.0  70.0  31.0    0.0  30.4  0.315  23.0    0.0\n",
       "\n",
       "[768 rows x 9 columns]"
      ]
     },
     "execution_count": 2,
     "metadata": {},
     "output_type": "execute_result"
    }
   ],
   "source": [
    "df_miss = pd.read_csv('Datasets/pima_indians_diabetes_miss.csv')\n",
    "df_miss"
   ]
  },
  {
   "cell_type": "code",
   "execution_count": 3,
   "id": "3ca833c1-bf21-41d2-9817-b91c887cfef1",
   "metadata": {},
   "outputs": [
    {
     "name": "stdout",
     "output_type": "stream",
     "text": [
      "Updated number of missing values in each attribute:\n",
      "pregs    19\n",
      "plas     33\n",
      "pres     35\n",
      "skin     45\n",
      "test     41\n",
      "BMI      42\n",
      "pedi     19\n",
      "Age      31\n",
      "class    29\n",
      "dtype: int64\n",
      "\n",
      "Updated total number of missing values in the file: 294\n"
     ]
    },
    {
     "name": "stderr",
     "output_type": "stream",
     "text": [
      "C:\\Users\\Teja\\AppData\\Local\\Temp\\ipykernel_23516\\33931220.py:2: FutureWarning: Setting an item of incompatible dtype is deprecated and will raise an error in a future version of pandas. Value 'na' has dtype incompatible with float64, please explicitly cast to a compatible dtype first.\n",
      "  df_miss.loc[valid_indices, 'pregs'] = \"na\"\n"
     ]
    }
   ],
   "source": [
    "valid_indices = df_miss['pregs'].dropna().index[:2]\n",
    "df_miss.loc[valid_indices, 'pregs'] = \"na\"\n",
    "\n",
    " \n",
    "df_miss.replace(\"na\", pd.NA, inplace=True)\n",
    " \n",
    "missing_values_per_column = df_miss.isnull().sum()\n",
    "total_missing_values = df_miss.isnull().sum().sum()\n",
    "\n",
    "print(\"Updated number of missing values in each attribute:\")\n",
    "print(missing_values_per_column)\n",
    "\n",
    "print(\"\\nUpdated total number of missing values in the file:\", total_missing_values)"
   ]
  },
  {
   "cell_type": "code",
   "execution_count": 4,
   "id": "6181a666-428c-406e-876a-60ef317ccc80",
   "metadata": {},
   "outputs": [
    {
     "name": "stdout",
     "output_type": "stream",
     "text": [
      "Updated number of missing values in each attribute:\n",
      "pregs    19\n",
      "plas     33\n",
      "pres     35\n",
      "skin     45\n",
      "test     41\n",
      "BMI      42\n",
      "pedi     23\n",
      "Age      31\n",
      "class    29\n",
      "dtype: int64\n",
      "\n",
      "Updated total number of missing values in the file: 298\n"
     ]
    },
    {
     "name": "stderr",
     "output_type": "stream",
     "text": [
      "C:\\Users\\Teja\\AppData\\Local\\Temp\\ipykernel_23516\\1238170842.py:6: FutureWarning: Setting an item of incompatible dtype is deprecated and will raise an error in a future version of pandas. Value 'N/A' has dtype incompatible with float64, please explicitly cast to a compatible dtype first.\n",
      "  df_miss.loc[temperature_valid_indices, 'pedi'] = \"N/A\"\n"
     ]
    }
   ],
   "source": [
    "df_miss.loc[df_miss['pedi'].first_valid_index(), 'pedi'] = None\n",
    "df_miss.loc[df_miss['pedi'].last_valid_index(), 'pedi'] = None\n",
    "\n",
    "\n",
    "temperature_valid_indices = df_miss['pedi'].dropna().index[:2]\n",
    "df_miss.loc[temperature_valid_indices, 'pedi'] = \"N/A\"\n",
    "\n",
    "\n",
    "df_miss.replace(\"N/A\", pd.NA, inplace=True)\n",
    "\n",
    "\n",
    "missing_values_per_column = df_miss.isnull().sum()\n",
    "total_missing_values = df_miss.isnull().sum().sum()\n",
    "\n",
    "\n",
    "print(\"Updated number of missing values in each attribute:\")\n",
    "print(missing_values_per_column)\n",
    "\n",
    "print(\"\\nUpdated total number of missing values in the file:\", total_missing_values)\n",
    "\n",
    "\n",
    "df_miss.to_csv('pima_indians_diabetes_miss-COPY.csv', index=False)"
   ]
  },
  {
   "cell_type": "code",
   "execution_count": 5,
   "id": "633915e7-ccb3-429c-ba3e-21bf9155f996",
   "metadata": {},
   "outputs": [
    {
     "name": "stdout",
     "output_type": "stream",
     "text": [
      "Number of tuples with specific missing values:\n",
      "0    648\n",
      "1     67\n",
      "2     14\n",
      "3     17\n",
      "5      5\n",
      "6      3\n",
      "7      7\n",
      "8      3\n",
      "9      4\n",
      "Name: count, dtype: int64\n"
     ]
    },
    {
     "data": {
      "image/png": "[encoded data removed]",
      "text/plain": [
       "<Figure size 1000x600 with 1 Axes>"
      ]
     },
     "metadata": {},
     "output_type": "display_data"
    }
   ],
   "source": [
    "missing_counts = df_miss.isnull().sum(axis=1)\n",
    "\n",
    "\n",
    "missing_value_distribution = missing_counts.value_counts().sort_index()\n",
    "\n",
    "print(\"Number of tuples with specific missing values:\")\n",
    "print(missing_value_distribution)\n",
    "\n",
    "\n",
    "plt.figure(figsize=(10, 6))\n",
    "plt.bar(missing_value_distribution.index, missing_value_distribution.values, color='skyblue')\n",
    "plt.xlabel('Number of Missing Values')\n",
    "plt.ylabel('Number of Tuples')\n",
    "plt.title('Number of Missing Values vs. Number of Tuples')\n",
    "# plt.xticks(range(missing_value_distribution.index.min(), missing_value_distribution.index.max() + 1))\n",
    "plt.show()"
   ]
  },
  {
   "cell_type": "code",
   "execution_count": 6,
   "id": "6718153b-d6f7-4d98-9f0a-6eabf245da94",
   "metadata": {},
   "outputs": [
    {
     "name": "stdout",
     "output_type": "stream",
     "text": [
      "Number of tuples with >=50% of attributes missing: 22\n"
     ]
    }
   ],
   "source": [
    "threshold = len(df_miss.columns) / 2\n",
    "\n",
    "tuples_with_high_missing = (missing_counts >= threshold).sum()\n",
    "print(f\"Number of tuples with >=50% of attributes missing: {tuples_with_high_missing}\")"
   ]
  },
  {
   "cell_type": "code",
   "execution_count": 7,
   "id": "e70ea9d9-7322-44c4-9618-ad591569b535",
   "metadata": {},
   "outputs": [
    {
     "name": "stdout",
     "output_type": "stream",
     "text": [
      "After dropping tuples with >=50% missing values, the dataset has 746 rows.\n"
     ]
    }
   ],
   "source": [
    "df_cleaned = df_miss[missing_counts < threshold]\n",
    "print(f\"After dropping tuples with >=50% missing values, the dataset has {len(df_cleaned)} rows.\")"
   ]
  },
  {
   "cell_type": "code",
   "execution_count": 8,
   "id": "b66a245f-809b-4d29-8b02-6791f7614203",
   "metadata": {},
   "outputs": [
    {
     "name": "stdout",
     "output_type": "stream",
     "text": [
      "After dropping tuples with missing 'quality' attribute, the dataset has 723 rows.\n"
     ]
    }
   ],
   "source": [
    "df_target_cleaned = df_cleaned.dropna(subset=['class'])\n",
    "print(f\"After dropping tuples with missing 'quality' attribute, the dataset has {len(df_target_cleaned)} rows.\")"
   ]
  },
  {
   "cell_type": "code",
   "execution_count": 9,
   "id": "647403b0-78b5-447d-a8a8-f72b6ac7daa4",
   "metadata": {},
   "outputs": [],
   "source": [
    "df_cleaned.to_csv('pima_indians_diabetes_cleaned.csv', index=False)\n",
    "df_target_cleaned.to_csv('pima_indians_diabetes_target_cleaned.csv', index=False)"
   ]
  },
  {
   "cell_type": "code",
   "execution_count": 10,
   "id": "b670b475-e9d7-4fb9-ba71-72652f81403f",
   "metadata": {},
   "outputs": [
    {
     "name": "stdout",
     "output_type": "stream",
     "text": [
      "Missing values replaced by the median of their respective attributes.\n",
      "  pregs   plas  pres  skin   test   BMI   pedi   Age  class\n",
      "0  <NA>  148.0  72.0  35.0    0.0  33.6    NaN  50.0    1.0\n",
      "2   8.0  183.0  64.0   0.0    0.0  23.3   <NA>  32.0    1.0\n",
      "3   1.0   89.0  66.0  23.0   94.0  28.1  0.167  29.0    0.0\n",
      "4   0.0  137.0  40.0  35.0  168.0  43.1  2.288  33.0    1.0\n",
      "5   5.0  116.0  74.0   0.0    0.0  25.6  0.201  30.0    0.0\n",
      "\n",
      "Number of missing values in each attribute after replacement:\n",
      "pregs    1\n",
      "plas     0\n",
      "pres     0\n",
      "skin     0\n",
      "test     0\n",
      "BMI      0\n",
      "pedi     5\n",
      "Age      0\n",
      "class    0\n",
      "dtype: int64\n"
     ]
    }
   ],
   "source": [
    "numeric_columns = df_target_cleaned.select_dtypes(include=['number']).columns\n",
    "medians = df_target_cleaned[numeric_columns].median()\n",
    "\n",
    "df_filled_median = df_target_cleaned.copy()\n",
    "df_filled_median[numeric_columns] = df_filled_median[numeric_columns].fillna(medians)\n",
    "print(\"Missing values replaced by the median of their respective attributes.\")\n",
    "print(df_filled_median.head())\n",
    "print(\"\\nNumber of missing values in each attribute after replacement:\")\n",
    "print(df_filled_median.isnull().sum())"
   ]
  },
  {
   "cell_type": "code",
   "execution_count": 11,
   "id": "c20bcf7a-e528-4cd9-b49e-31eb0daffc21",
   "metadata": {},
   "outputs": [
    {
     "name": "stdout",
     "output_type": "stream",
     "text": [
      "Comparison of Statistics Between Original and Processed Dataset:\n",
      "       Original Mean  Original Median  Original Std  Original Mode  \\\n",
      "pregs       3.845052           3.0000      3.369578          1.000   \n",
      "plas      120.894531         117.0000     31.972618         99.000   \n",
      "pres       69.105469          72.0000     19.355807         70.000   \n",
      "skin       20.536458          23.0000     15.952218          0.000   \n",
      "test       79.799479          30.5000    115.244002          0.000   \n",
      "BMI        31.992578          32.0000      7.884160         32.000   \n",
      "pedi        0.471876           0.3725      0.331329          0.254   \n",
      "Age        33.240885          29.0000     11.760232         22.000   \n",
      "class       0.348958           0.0000      0.476951          0.000   \n",
      "\n",
      "       Processed Mean  Processed Median  Processed Std Processed Mode  \n",
      "pregs             NaN               NaN            NaN            NaN  \n",
      "plas       120.470263             117.0      30.770127          117.0  \n",
      "pres        69.045643              72.0      19.576453           72.0  \n",
      "skin        20.432918              23.0      15.786557            0.0  \n",
      "test        76.383126              25.0     110.069727            0.0  \n",
      "BMI         32.046335              32.0       7.766522           32.0  \n",
      "pedi              NaN               NaN            NaN            NaN  \n",
      "Age         32.915629              29.0      11.520177           22.0  \n",
      "class        0.343015               0.0       0.475045            0.0  \n"
     ]
    }
   ],
   "source": [
    "df_original = pd.read_csv(\"pima_indians_diabetes_original.csv\")\n",
    "df_processed = df_filled_median\n",
    "\n",
    "original_stats = df_original.describe().transpose()\n",
    "original_stats['Mode'] = df_original.mode().iloc[0]\n",
    "\n",
    "processed_stats = df_processed.describe().transpose()\n",
    "processed_stats['Mode'] = df_processed.mode().iloc[0]\n",
    "\n",
    "comparison = original_stats[['mean', '50%', 'std', 'Mode']].copy()\n",
    "comparison.columns = ['Original Mean', 'Original Median', 'Original Std', 'Original Mode']\n",
    "\n",
    "processed_comparison = processed_stats[['mean', '50%', 'std', 'Mode']].copy()\n",
    "processed_comparison.columns = ['Processed Mean', 'Processed Median', 'Processed Std', 'Processed Mode']\n",
    "\n",
    "comparison = pd.concat([comparison, processed_comparison], axis=1)\n",
    "\n",
    "print(\"Comparison of Statistics Between Original and Processed Dataset:\")\n",
    "print(comparison)"
   ]
  },
  {
   "cell_type": "code",
   "execution_count": 12,
   "id": "127be535-aa37-4217-8b45-939025bfb31d",
   "metadata": {},
   "outputs": [
    {
     "name": "stdout",
     "output_type": "stream",
     "text": [
      "Root Mean Square Error (RMSE) for each attribute:\n",
      "pregs: <NA>\n",
      "plas: 6.0198\n",
      "pres: 1.1182\n",
      "skin: 2.8682\n",
      "test: 12.3706\n",
      "BMI: 1.4120\n",
      "pedi: <NA>\n",
      "Age: 2.6926\n",
      "class: 0.0000\n"
     ]
    }
   ],
   "source": [
    "df_processed = df_filled_median.copy()\n",
    "\n",
    "common_columns = df_original.columns.intersection(df_processed.columns)\n",
    "df_original = df_original[common_columns]\n",
    "df_processed = df_processed[common_columns]\n",
    "\n",
    "common_indices = df_original.index.intersection(df_processed.index)\n",
    "df_original = df_original.loc[common_indices]\n",
    "df_processed = df_processed.loc[common_indices]\n",
    "\n",
    "rmse_values = {}\n",
    "for column in df_original.columns:\n",
    "    if df_original[column].dtype in ['float64', 'int64']:\n",
    "        original_values = df_original[column].values\n",
    "        processed_values = df_processed[column].values\n",
    "        rmse = np.sqrt(np.mean((original_values - processed_values) ** 2))\n",
    "        rmse_values[column] = rmse\n",
    "\n",
    "print(\"Root Mean Square Error (RMSE) for each attribute:\")\n",
    "for attribute, rmse in rmse_values.items():\n",
    "    print(f\"{attribute}: {rmse:.4f}\")"
   ]
  },
  {
   "cell_type": "code",
   "execution_count": 13,
   "id": "631752d3-a63d-47e2-9d88-551725e7f81f",
   "metadata": {},
   "outputs": [
    {
     "name": "stdout",
     "output_type": "stream",
     "text": [
      "\n",
      "Root Mean Square Error (RMSE) as a percentage of the mean for each attribute:\n",
      "pregs: <NA>%\n",
      "plas: 4.99%\n",
      "pres: 1.62%\n",
      "skin: 14.09%\n",
      "test: 15.99%\n",
      "BMI: 4.41%\n",
      "pedi: <NA>%\n",
      "Age: 8.13%\n",
      "class: 0.00%\n"
     ]
    }
   ],
   "source": [
    "rmse_percentage = {}\n",
    "for column in df_original.columns:\n",
    "    if df_original[column].dtype in ['float64', 'int64']:\n",
    "        original_values = df_original[column].values\n",
    "        processed_values = df_processed[column].values\n",
    "        rmse = np.sqrt(np.mean((original_values - processed_values) ** 2))\n",
    "        mean_value = np.mean(np.abs(original_values))\n",
    "        if mean_value != 0: \n",
    "            rmse_percent = (rmse / mean_value) * 100\n",
    "        else:\n",
    "            rmse_percent = 0  # If mean is zero, RMSE percent is not meaningful\n",
    "        rmse_percentage[column] = rmse_percent\n",
    "\n",
    "print(\"\\nRoot Mean Square Error (RMSE) as a percentage of the mean for each attribute:\")\n",
    "for attribute, rmse_percent in rmse_percentage.items():\n",
    "    print(f\"{attribute}: {rmse_percent:.2f}%\")\n"
   ]
  },
  {
   "cell_type": "code",
   "execution_count": 14,
   "id": "f1d3d08f-e7e6-4470-93fb-bc6d412a50df",
   "metadata": {},
   "outputs": [
    {
     "name": "stdout",
     "output_type": "stream",
     "text": [
      "DataFrame after forward filling missing values:\n",
      "  pregs   plas  pres  skin   test   BMI   pedi   Age  class\n",
      "0  <NA>  148.0  72.0  35.0    0.0  33.6    NaN  50.0    1.0\n",
      "1  <NA>   85.0  66.0  29.0    0.0  33.6    NaN  50.0    1.0\n",
      "2   8.0  183.0  64.0   0.0    0.0  23.3    NaN  32.0    1.0\n",
      "3   1.0   89.0  66.0  23.0   94.0  28.1  0.167  32.0    0.0\n",
      "4   0.0  137.0  40.0  35.0  168.0  43.1  2.288  33.0    1.0\n",
      "Total number of missing values after forward filling: 5\n"
     ]
    },
    {
     "name": "stderr",
     "output_type": "stream",
     "text": [
      "C:\\Users\\Teja\\AppData\\Local\\Temp\\ipykernel_23516\\3911798104.py:1: FutureWarning: DataFrame.fillna with 'method' is deprecated and will raise in a future version. Use obj.ffill() or obj.bfill() instead.\n",
      "  df_filled_propagated = df_miss.fillna(method='ffill')\n",
      "C:\\Users\\Teja\\AppData\\Local\\Temp\\ipykernel_23516\\3911798104.py:1: FutureWarning: Downcasting object dtype arrays on .fillna, .ffill, .bfill is deprecated and will change in a future version. Call result.infer_objects(copy=False) instead. To opt-in to the future behavior, set `pd.set_option('future.no_silent_downcasting', True)`\n",
      "  df_filled_propagated = df_miss.fillna(method='ffill')\n"
     ]
    }
   ],
   "source": [
    "df_filled_propagated = df_miss.fillna(method='ffill')\n",
    "\n",
    "# Display the first few rows of the filled DataFrame\n",
    "print(\"DataFrame after forward filling missing values:\")\n",
    "print(df_filled_propagated.head())\n",
    "\n",
    "# Check if there are still missing values\n",
    "missing_values_count = df_filled_propagated.isnull().sum().sum()\n",
    "print(f\"Total number of missing values after forward filling: {missing_values_count}\")"
   ]
  },
  {
   "cell_type": "code",
   "execution_count": 15,
   "id": "0fc4040a-a9bf-47a7-829d-6fcc7cad6744",
   "metadata": {},
   "outputs": [
    {
     "name": "stdout",
     "output_type": "stream",
     "text": [
      "DataFrame after linear interpolation:\n",
      "  pregs   plas  pres  skin   test    BMI   pedi   Age  class\n",
      "0  <NA>  148.0  72.0  35.0    0.0  33.60    NaN  50.0    1.0\n",
      "1  <NA>   85.0  66.0  29.0    0.0  28.45   <NA>  41.0    1.0\n",
      "2   8.0  183.0  64.0   0.0    0.0  23.30   <NA>  32.0    1.0\n",
      "3   1.0   89.0  66.0  23.0   94.0  28.10  0.167  32.5    0.0\n",
      "4   0.0  137.0  40.0  35.0  168.0  43.10  2.288  33.0    1.0\n",
      "Total number of missing values after linear interpolation: 42\n"
     ]
    },
    {
     "name": "stderr",
     "output_type": "stream",
     "text": [
      "C:\\Users\\Teja\\AppData\\Local\\Temp\\ipykernel_23516\\1760231409.py:1: FutureWarning: DataFrame.interpolate with object dtype is deprecated and will raise in a future version. Call obj.infer_objects(copy=False) before interpolating instead.\n",
      "  df_interpolated = df_miss.interpolate(method='linear', axis=0)\n"
     ]
    }
   ],
   "source": [
    "df_interpolated = df_miss.interpolate(method='linear', axis=0)\n",
    "\n",
    "print(\"DataFrame after linear interpolation:\")\n",
    "print(df_interpolated.head())\n",
    "\n",
    "missing_values_count = df_interpolated.isnull().sum().sum()\n",
    "print(f\"Total number of missing values after linear interpolation: {missing_values_count}\")"
   ]
  },
  {
   "cell_type": "code",
   "execution_count": null,
   "id": "a2e74e95-e074-4bac-a3fb-5916a5776627",
   "metadata": {},
   "outputs": [],
   "source": []
  }
 ],
 "metadata": {
  "kernelspec": {
   "display_name": "Python 3",
   "language": "python",
   "name": "python3"
  },
  "language_info": {
   "codemirror_mode": {
    "name": "ipython",
    "version": 3
   },
   "file_extension": ".py",
   "mimetype": "text/x-python",
   "name": "python",
   "nbconvert_exporter": "python",
   "pygments_lexer": "ipython3",
   "version": "3.11.9"
  }
 },
 "nbformat": 4,
 "nbformat_minor": 5
}
